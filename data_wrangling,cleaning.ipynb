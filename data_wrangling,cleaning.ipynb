{
  "nbformat": 4,
  "nbformat_minor": 0,
  "metadata": {
    "colab": {
      "provenance": [],
      "authorship_tag": "ABX9TyOqGH3DCZxNhStbeeeiqwAf",
      "include_colab_link": true
    },
    "kernelspec": {
      "name": "python3",
      "display_name": "Python 3"
    },
    "language_info": {
      "name": "python"
    }
  },
  "cells": [
    {
      "cell_type": "markdown",
      "metadata": {
        "id": "view-in-github",
        "colab_type": "text"
      },
      "source": [
        "<a href=\"https://colab.research.google.com/github/dhineshkumar1998/Finacial_dashboard_dhineshkumarR/blob/main/data_wrangling%2Ccleaning.ipynb\" target=\"_parent\"><img src=\"https://colab.research.google.com/assets/colab-badge.svg\" alt=\"Open In Colab\"/></a>"
      ]
    },
    {
      "cell_type": "code",
      "execution_count": null,
      "metadata": {
        "id": "1l2fvRtr3til"
      },
      "outputs": [],
      "source": [
        "import pandas as pd"
      ]
    },
    {
      "cell_type": "code",
      "source": [
        "df = pd.read_excel(\"/content/titanic3.xls\")"
      ],
      "metadata": {
        "id": "lhgUh0xS-3Sa"
      },
      "execution_count": null,
      "outputs": []
    },
    {
      "cell_type": "code",
      "source": [
        "df.head()"
      ],
      "metadata": {
        "id": "WYE3gUKM_xbw"
      },
      "execution_count": null,
      "outputs": []
    },
    {
      "cell_type": "code",
      "source": [
        "df.info()"
      ],
      "metadata": {
        "id": "q1XYwB1__8Km"
      },
      "execution_count": null,
      "outputs": []
    },
    {
      "cell_type": "code",
      "source": [
        "df.duplicated().sum()"
      ],
      "metadata": {
        "colab": {
          "base_uri": "https://localhost:8080/"
        },
        "id": "UZSdLrzsArmi",
        "outputId": "044d7764-a88f-451e-daa4-22aa6e43df36"
      },
      "execution_count": null,
      "outputs": [
        {
          "output_type": "execute_result",
          "data": {
            "text/plain": [
              "np.int64(0)"
            ]
          },
          "metadata": {},
          "execution_count": 16
        }
      ]
    },
    {
      "cell_type": "code",
      "source": [
        "df.dtypes"
      ],
      "metadata": {
        "id": "rWTUDDWeCyVv"
      },
      "execution_count": null,
      "outputs": []
    },
    {
      "cell_type": "code",
      "source": [
        "df [\"age\"] = pd.to_numeric(df[\"age\"], errors=\"coerce\")"
      ],
      "metadata": {
        "id": "NBlNdpTuDU97"
      },
      "execution_count": null,
      "outputs": []
    },
    {
      "cell_type": "code",
      "source": [
        "df.dtypes"
      ],
      "metadata": {
        "id": "l2ouh96ADi5B"
      },
      "execution_count": null,
      "outputs": []
    },
    {
      "cell_type": "code",
      "source": [
        "df.drop(columns=[\"ticket\"], inplace=True)"
      ],
      "metadata": {
        "id": "a26Rkm39HiGk"
      },
      "execution_count": null,
      "outputs": []
    },
    {
      "cell_type": "code",
      "source": [
        "df.head()"
      ],
      "metadata": {
        "id": "Q59zyBc0IFnW"
      },
      "execution_count": null,
      "outputs": []
    },
    {
      "cell_type": "code",
      "source": [
        "df[\"sex\"] = df[\"sex\"].str.lower()"
      ],
      "metadata": {
        "id": "iAf-1hN7m35Q"
      },
      "execution_count": null,
      "outputs": []
    },
    {
      "cell_type": "code",
      "source": [
        "df.head()"
      ],
      "metadata": {
        "id": "tW5Rsrv1o_85"
      },
      "execution_count": null,
      "outputs": []
    },
    {
      "cell_type": "code",
      "source": [
        "df[\"sex\"].value_counts()"
      ],
      "metadata": {
        "id": "dl62UWvdq8xG"
      },
      "execution_count": null,
      "outputs": []
    },
    {
      "cell_type": "code",
      "source": [
        "import matplotlib.pyplot as plt\n"
      ],
      "metadata": {
        "id": "h62DlVHdWGx7"
      },
      "execution_count": null,
      "outputs": []
    },
    {
      "cell_type": "code",
      "source": [
        "plt.boxplot(df[\"fare\"])\n",
        "plt.title(\"fare\")\n",
        "plt.show()"
      ],
      "metadata": {
        "id": "UBA27a8NWnrI"
      },
      "execution_count": null,
      "outputs": []
    },
    {
      "cell_type": "code",
      "source": [
        "df.isnull().sum()"
      ],
      "metadata": {
        "id": "3Z9xpxCYcKVu"
      },
      "execution_count": null,
      "outputs": []
    },
    {
      "cell_type": "code",
      "source": [
        "import seaborn as sns"
      ],
      "metadata": {
        "id": "v0TImwIZc1Cu"
      },
      "execution_count": null,
      "outputs": []
    },
    {
      "cell_type": "code",
      "source": [
        "sns.heatmap(df.isnull(), cbar = \"true\", cmap = \"viridis\")\n",
        "plt.title(\"missing values\")\n",
        "plt.show()"
      ],
      "metadata": {
        "colab": {
          "base_uri": "https://localhost:8080/",
          "height": 512
        },
        "id": "4CARqyUyc6Bc",
        "outputId": "b04bdffd-5499-4937-dbed-62311f6fa79b"
      },
      "execution_count": null,
      "outputs": [
        {
          "output_type": "display_data",
          "data": {
            "text/plain": [
              "<Figure size 640x480 with 2 Axes>"
            ],
            "image/png": "[encoded data removed]"
          },
          "metadata": {}
        }
      ]
    },
    {
      "cell_type": "code",
      "source": [
        "missing_percentage = df.isnull().sum()/len(df)*100"
      ],
      "metadata": {
        "id": "8kko27cZedtX"
      },
      "execution_count": null,
      "outputs": []
    },
    {
      "cell_type": "code",
      "source": [
        "missing_percentage"
      ],
      "metadata": {
        "id": "McxLu05vevhD"
      },
      "execution_count": null,
      "outputs": []
    },
    {
      "cell_type": "code",
      "source": [
        "df.drop(columns=[\"cabin\"],inplace = True)"
      ],
      "metadata": {
        "id": "ONgmO1cOfAZ3"
      },
      "execution_count": null,
      "outputs": []
    },
    {
      "cell_type": "code",
      "source": [
        "df.columns"
      ],
      "metadata": {
        "id": "c-JouzPJfTbi"
      },
      "execution_count": null,
      "outputs": []
    },
    {
      "cell_type": "code",
      "source": [
        "df.isna().sum()"
      ],
      "metadata": {
        "id": "jo5iOa1yha8y"
      },
      "execution_count": null,
      "outputs": []
    },
    {
      "cell_type": "code",
      "source": [
        "df.fillna(df[\"age\"].median(),inplace = True)"
      ],
      "metadata": {
        "id": "JNS8y_K7hg9B"
      },
      "execution_count": null,
      "outputs": []
    },
    {
      "cell_type": "code",
      "source": [
        "cat_columns = [col for col in df.columns if df[col].dtype == \"object\"]"
      ],
      "metadata": {
        "id": "xXGijbsrkDuz"
      },
      "execution_count": null,
      "outputs": []
    },
    {
      "cell_type": "code",
      "source": [
        "num_columns = [col for col in df.columns if df[col].dtype != \"object\"]"
      ],
      "metadata": {
        "id": "nAu9Xm_eko3h"
      },
      "execution_count": null,
      "outputs": []
    },
    {
      "cell_type": "code",
      "source": [
        "num_columns"
      ],
      "metadata": {
        "id": "8J4LgRInlGEb"
      },
      "execution_count": null,
      "outputs": []
    },
    {
      "cell_type": "code",
      "source": [
        "from sklearn.preprocessing import LabelEncoder\n",
        "ls = LabelEncoder()\n",
        "df['sex'] = ls.fit_transform(df['sex'])"
      ],
      "metadata": {
        "id": "JBTc026vmDzX"
      },
      "execution_count": null,
      "outputs": []
    },
    {
      "cell_type": "code",
      "source": [
        "df = pd.get_dummies(df, columns = [\"embarked\"],drop_first = True)"
      ],
      "metadata": {
        "id": "MM8NOT0-9Iqm"
      },
      "execution_count": null,
      "outputs": []
    },
    {
      "cell_type": "code",
      "source": [
        "df"
      ],
      "metadata": {
        "id": "ZMoIJN0nwcY4"
      },
      "execution_count": null,
      "outputs": []
    },
    {
      "cell_type": "code",
      "source": [
        "from sklearn.preprocessing import StandardScaler\n",
        "scaler = StandardScaler()\n",
        "df[num_columns] = scaler.fit_transform(df[num_columns])"
      ],
      "metadata": {
        "id": "d2ai5Gcoxiyy"
      },
      "execution_count": null,
      "outputs": []
    },
    {
      "cell_type": "code",
      "source": [
        "q1 = df[\"fare\"].quantile(0.25)\n",
        "q3 = df[\"fare\"].quantile(0.75)\n",
        "iqr = q3-q1\n",
        "lower = q1 -1.5*iqr\n",
        "upper = q3 + 1.5*iqr\n",
        "outliers = df[(df[\"fare\"] < lower) | (df[\"fare\"] > upper)]"
      ],
      "metadata": {
        "id": "Db8X7Vq7zPQu"
      },
      "execution_count": null,
      "outputs": []
    },
    {
      "cell_type": "code",
      "source": [
        "outliers"
      ],
      "metadata": {
        "id": "PWSUQ1y_0cmJ"
      },
      "execution_count": null,
      "outputs": []
    },
    {
      "cell_type": "code",
      "source": [
        "df[\"fare\"] = df[\"fare\"].apply(lambda x: df[\"fare\"].median() if x > upper or x < lower else x)"
      ],
      "metadata": {
        "id": "Q2xxb9jS1Dlo"
      },
      "execution_count": null,
      "outputs": []
    },
    {
      "cell_type": "code",
      "source": [
        "df[\"fare\"]"
      ],
      "metadata": {
        "id": "tAXCLV232ZhX"
      },
      "execution_count": null,
      "outputs": []
    },
    {
      "cell_type": "code",
      "source": [
        "plt.boxplot(df[\"fare\"])\n",
        "plt.title(\"outliers fare\")\n",
        "plt.show"
      ],
      "metadata": {
        "id": "HcjaRyU43F6i"
      },
      "execution_count": null,
      "outputs": []
    },
    {
      "cell_type": "code",
      "source": [
        "sns.countplot(data = df, x = \"sex\")\n",
        "plt.title(\"gender distribution\")\n",
        "plt.show\n"
      ],
      "metadata": {
        "id": "quwKaCh34Y_G"
      },
      "execution_count": null,
      "outputs": []
    },
    {
      "cell_type": "code",
      "source": [
        "sns.histplot(df[\"age\"], bins=20, kde=True)\n",
        "plt.title(\"age distribution\")\n",
        "plt.show()"
      ],
      "metadata": {
        "id": "GgOg6Z855DwM"
      },
      "execution_count": null,
      "outputs": []
    },
    {
      "cell_type": "code",
      "source": [
        "sns.boxplot(data = df, x = \"sex\", y = \"sex\")\n",
        "plt.title(\"age distribution by sex\")\n",
        "plt.show()"
      ],
      "metadata": {
        "id": "7D113pxpmaz3"
      },
      "execution_count": null,
      "outputs": []
    },
    {
      "cell_type": "code",
      "source": [
        "sns.barplot(data = df , x= \"sex\", y = \"survived\")\n",
        "plt.title(\"survival rate\")\n",
        "plt.show()"
      ],
      "metadata": {
        "id": "7K7QHLDvoWsC"
      },
      "execution_count": null,
      "outputs": []
    },
    {
      "cell_type": "code",
      "source": [
        "sns.histplot(df[df[\"survived\"]==1][\"fare\"], bins = 20, kde = True , color = \"green\",label = \"survived\")\n",
        "sns.histplot(df[df[\"survived\"]==0][\"fare\"], bins = 20, kde = True , color = \"red\",label = \"not survived\")\n",
        "plt.title(\"fare distribution by survival\")\n",
        "plt.legend()\n",
        "plt.show()"
      ],
      "metadata": {
        "id": "0GmLdLvfpSbe"
      },
      "execution_count": null,
      "outputs": []
    },
    {
      "cell_type": "code",
      "source": [
        "# Plot the correlation matrix\n",
        "sns.heatmap(correlation, annot=True, cmap=\"Coolwarm\")\n",
        "plt.title(\"Correlation Matrix\")\n",
        "plt.show()"
      ],
      "metadata": {
        "id": "1ahhkKby5LbL"
      },
      "execution_count": null,
      "outputs": []
    },
    {
      "cell_type": "code",
      "source": [
        "x = df.drop(columns =[\"survivded\"])\n",
        "y = df[\"survived\"]\n",
        "x=x.fillna(x.radian())\n",
        "\n",
        "smote = smote(random_state = 69)\n",
        "x_resampled, y_resampled = smote.fit_resample(x,y)"
      ],
      "metadata": {
        "id": "rfhTQqWl47VQ"
      },
      "execution_count": null,
      "outputs": []
    }
  ]
}